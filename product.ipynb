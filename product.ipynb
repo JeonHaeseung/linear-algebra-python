{
 "cells": [
  {
   "cell_type": "code",
   "execution_count": 1,
   "metadata": {},
   "outputs": [],
   "source": [
    "from IPython.display import display, Math\n",
    "import numpy as np"
   ]
  },
  {
   "cell_type": "markdown",
   "metadata": {},
   "source": [
    "# Inner Product"
   ]
  },
  {
   "cell_type": "markdown",
   "metadata": {},
   "source": [
    "> 두 벡터 간 유사성을 구합니다."
   ]
  },
  {
   "cell_type": "code",
   "execution_count": 15,
   "metadata": {},
   "outputs": [
    {
     "data": {
      "text/latex": [
       "$\\displaystyle \n",
       "   \\mathbf{a} \\cdot \\mathbf{b} = \n",
       "   \\begin{bmatrix}\n",
       "   a_1 \\\\\n",
       "   a_2 \\\\\n",
       "   a_3\n",
       "   \\end{bmatrix}\n",
       "   \\cdot\n",
       "   \\begin{bmatrix}\n",
       "   b_1 \\\\\n",
       "   b_2 \\\\\n",
       "   b_3\n",
       "   \\end{bmatrix}\n",
       "   = a_1 b_1 + a_2 b_2 + a_3 b_3\n",
       "   = \\sum_{i=1}^{n} a_i b_i\n",
       "$"
      ],
      "text/plain": [
       "<IPython.core.display.Math object>"
      ]
     },
     "metadata": {},
     "output_type": "display_data"
    }
   ],
   "source": [
    "inner_product = r\"\"\"\n",
    "   \\mathbf{a} \\cdot \\mathbf{b} = \n",
    "   \\begin{bmatrix}\n",
    "   a_1 \\\\\n",
    "   a_2 \\\\\n",
    "   a_3\n",
    "   \\end{bmatrix}\n",
    "   \\cdot\n",
    "   \\begin{bmatrix}\n",
    "   b_1 \\\\\n",
    "   b_2 \\\\\n",
    "   b_3\n",
    "   \\end{bmatrix}\n",
    "   = a_1 b_1 + a_2 b_2 + a_3 b_3\n",
    "   = \\sum_{i=1}^{n} a_i b_i\n",
    "\"\"\"\n",
    "\n",
    "display(Math(inner_product))"
   ]
  },
  {
   "cell_type": "code",
   "execution_count": 3,
   "metadata": {},
   "outputs": [
    {
     "name": "stdout",
     "output_type": "stream",
     "text": [
      "Inner Product:\n",
      " 32\n"
     ]
    }
   ],
   "source": [
    "a = np.array([1, 2, 3])\n",
    "b = np.array([4, 5, 6])\n",
    "\n",
    "inner_product = np.dot(a, b)\n",
    "\n",
    "print(\"Inner Product:\\n\", inner_product)"
   ]
  },
  {
   "cell_type": "markdown",
   "metadata": {},
   "source": [
    "# Matrix Multiplication"
   ]
  },
  {
   "cell_type": "markdown",
   "metadata": {},
   "source": [
    "> 벡터를 행렬로 확장하고, 하나의 행렬을 Transpose하고, 이를 Matmul 한 것이 Inner Product이다."
   ]
  },
  {
   "cell_type": "code",
   "execution_count": 20,
   "metadata": {},
   "outputs": [
    {
     "data": {
      "text/latex": [
       "$\\displaystyle \n",
       "    \\mathbf{a}^T \\cdot \\mathbf{b} =\n",
       "    \\begin{bmatrix} a_1 & a_2 & a_3 \\end{bmatrix} \\cdot\n",
       "    \\begin{bmatrix} b_1 \\\\ b_2 \\\\ b_3 \\end{bmatrix}\n",
       "    =\n",
       "    \\begin{bmatrix} a_1 b_1 + a_2 b_2 + a_3 b_3 \\end{bmatrix}\n",
       "$"
      ],
      "text/plain": [
       "<IPython.core.display.Math object>"
      ]
     },
     "metadata": {},
     "output_type": "display_data"
    }
   ],
   "source": [
    "mat_mul = r\"\"\"\n",
    "    \\mathbf{a}^T \\cdot \\mathbf{b} =\n",
    "    \\begin{bmatrix} a_1 & a_2 & a_3 \\end{bmatrix} \\cdot\n",
    "    \\begin{bmatrix} b_1 \\\\ b_2 \\\\ b_3 \\end{bmatrix}\n",
    "    =\n",
    "    \\begin{bmatrix} a_1 b_1 + a_2 b_2 + a_3 b_3 \\end{bmatrix}\n",
    "\"\"\"\n",
    "\n",
    "# Jupyter Notebook에서 LaTeX 수식 렌더링\n",
    "display(Math(mat_mul))"
   ]
  },
  {
   "cell_type": "code",
   "execution_count": 19,
   "metadata": {},
   "outputs": [
    {
     "name": "stdout",
     "output_type": "stream",
     "text": [
      "Mat Mul:\n",
      " [[ 89  98]\n",
      " [116 128]]\n"
     ]
    }
   ],
   "source": [
    "a = np.array([[1, 2], [3, 4], [5, 6]])      # (3,2)\n",
    "b = np.array([[7, 8], [9, 10], [11, 12]])   # (3,2)\n",
    "\n",
    "inner_product = np.matmul(a.T, b)\n",
    "print(\"Mat Mul:\\n\", inner_product)"
   ]
  },
  {
   "cell_type": "markdown",
   "metadata": {},
   "source": [
    "# Outer Product"
   ]
  },
  {
   "cell_type": "markdown",
   "metadata": {},
   "source": [
    "> 행 벡터와 열 벡터의 곱으로 외적곱 행렬을 만듭니다. 벡터를 행렬로 확장하기 위해 쓰이는 연산으로, feature vector와 weight vector 간 연산으로 weight metrix를 만들 때 사용됩니다."
   ]
  },
  {
   "cell_type": "code",
   "execution_count": 13,
   "metadata": {},
   "outputs": [
    {
     "data": {
      "text/latex": [
       "$\\displaystyle \n",
       "    \\mathbf{a} \\otimes \\mathbf{b} =\n",
       "    \\begin{bmatrix}\n",
       "    a_1 \\\\\n",
       "    a_2 \\\\\n",
       "    a_3\n",
       "    \\end{bmatrix}\n",
       "    \\otimes\n",
       "    \\begin{bmatrix}\n",
       "    b_1 & b_2 & b_3\n",
       "    \\end{bmatrix} =\n",
       "    \\begin{bmatrix}\n",
       "    a_1 b_1 & a_1 b_2 & a_1 b_3 \\\\\n",
       "    a_2 b_1 & a_2 b_2 & a_2 b_3 \\\\\n",
       "    a_3 b_1 & a_3 b_2 & a_3 b_3\n",
       "    \\end{bmatrix}\n",
       "$"
      ],
      "text/plain": [
       "<IPython.core.display.Math object>"
      ]
     },
     "metadata": {},
     "output_type": "display_data"
    }
   ],
   "source": [
    "outer_product = r\"\"\"\n",
    "    \\mathbf{a} \\otimes \\mathbf{b} =\n",
    "    \\begin{bmatrix}\n",
    "    a_1 \\\\\n",
    "    a_2 \\\\\n",
    "    a_3\n",
    "    \\end{bmatrix}\n",
    "    \\otimes\n",
    "    \\begin{bmatrix}\n",
    "    b_1 & b_2 & b_3\n",
    "    \\end{bmatrix} =\n",
    "    \\begin{bmatrix}\n",
    "    a_1 b_1 & a_1 b_2 & a_1 b_3 \\\\\n",
    "    a_2 b_1 & a_2 b_2 & a_2 b_3 \\\\\n",
    "    a_3 b_1 & a_3 b_2 & a_3 b_3\n",
    "    \\end{bmatrix}\n",
    "\"\"\"\n",
    "\n",
    "display(Math(outer_product))"
   ]
  },
  {
   "cell_type": "code",
   "execution_count": 5,
   "metadata": {},
   "outputs": [
    {
     "name": "stdout",
     "output_type": "stream",
     "text": [
      "Outer Product:\n",
      " [[ 4  5  6]\n",
      " [ 8 10 12]\n",
      " [12 15 18]]\n"
     ]
    }
   ],
   "source": [
    "a = np.array([1, 2, 3])\n",
    "b = np.array([[4], [5], [6]])\n",
    "\n",
    "outer_product = np.outer(a, b)\n",
    "\n",
    "print(\"Outer Product:\\n\", outer_product)"
   ]
  },
  {
   "cell_type": "markdown",
   "metadata": {},
   "source": [
    "# Cross Product"
   ]
  },
  {
   "cell_type": "markdown",
   "metadata": {},
   "source": [
    "> 두 벡터가 이루는 평면에 수직(orthogonal)한 벡터를 생성합니다. 결과 벡터의 크기(길이)는 두 벡터가 이루는 평행사변형의 면적을 나타냅니다."
   ]
  },
  {
   "cell_type": "code",
   "execution_count": 6,
   "metadata": {},
   "outputs": [
    {
     "data": {
      "text/latex": [
       "$\\displaystyle \n",
       "    \\mathbf{a} \\times \\mathbf{b} =\n",
       "    \\begin{bmatrix}\n",
       "    a_2 b_3 - a_3 b_2 \\\\\n",
       "    a_3 b_1 - a_1 b_3 \\\\\n",
       "    a_1 b_2 - a_2 b_1\n",
       "    \\end{bmatrix}\n",
       "$"
      ],
      "text/plain": [
       "<IPython.core.display.Math object>"
      ]
     },
     "metadata": {},
     "output_type": "display_data"
    }
   ],
   "source": [
    "cross_product = r\"\"\"\n",
    "    \\mathbf{a} \\times \\mathbf{b} =\n",
    "    \\begin{bmatrix}\n",
    "    a_2 b_3 - a_3 b_2 \\\\\n",
    "    a_3 b_1 - a_1 b_3 \\\\\n",
    "    a_1 b_2 - a_2 b_1\n",
    "    \\end{bmatrix}\n",
    "\"\"\"\n",
    "\n",
    "display(Math(cross_product))"
   ]
  },
  {
   "cell_type": "code",
   "execution_count": 7,
   "metadata": {},
   "outputs": [
    {
     "name": "stdout",
     "output_type": "stream",
     "text": [
      "Cross Product:\n",
      " [-3  6 -3]\n"
     ]
    }
   ],
   "source": [
    "a = np.array([1, 2, 3])\n",
    "b = np.array([4, 5, 6])\n",
    "\n",
    "cross_product = np.cross(a, b)\n",
    "print(\"Cross Product:\\n\", cross_product)"
   ]
  },
  {
   "cell_type": "markdown",
   "metadata": {},
   "source": [
    "# Element-Wise Product (Hadamard Product)"
   ]
  },
  {
   "cell_type": "markdown",
   "metadata": {},
   "source": [
    "> 같은 위치의 원소끼리 직접 곱하는 연산입니다. Activation Function 등에 사용됩니다."
   ]
  },
  {
   "cell_type": "code",
   "execution_count": 10,
   "metadata": {},
   "outputs": [
    {
     "data": {
      "text/latex": [
       "$\\displaystyle \n",
       "    \\mathbf{A} \\odot \\mathbf{B} =\n",
       "    \\begin{bmatrix}\n",
       "    a_{11} & a_{12} & a_{13} \\\\\n",
       "    a_{21} & a_{22} & a_{23} \\\\\n",
       "    a_{31} & a_{32} & a_{33}\n",
       "    \\end{bmatrix}\n",
       "    \\odot\n",
       "    \\begin{bmatrix}\n",
       "    b_{11} & b_{12} & b_{13} \\\\\n",
       "    b_{21} & b_{22} & b_{23} \\\\\n",
       "    b_{31} & b_{32} & b_{33}\n",
       "    \\end{bmatrix}\n",
       "    =\n",
       "    \\begin{bmatrix}\n",
       "    a_{11} b_{11} & a_{12} b_{12} & a_{13} b_{13} \\\\\n",
       "    a_{21} b_{21} & a_{22} b_{22} & a_{23} b_{23} \\\\\n",
       "    a_{31} b_{31} & a_{32} b_{32} & a_{33} b_{33}\n",
       "    \\end{bmatrix}\n",
       "$"
      ],
      "text/plain": [
       "<IPython.core.display.Math object>"
      ]
     },
     "metadata": {},
     "output_type": "display_data"
    }
   ],
   "source": [
    "element_wise_product = r\"\"\"\n",
    "    \\mathbf{A} \\odot \\mathbf{B} =\n",
    "    \\begin{bmatrix}\n",
    "    a_{11} & a_{12} & a_{13} \\\\\n",
    "    a_{21} & a_{22} & a_{23} \\\\\n",
    "    a_{31} & a_{32} & a_{33}\n",
    "    \\end{bmatrix}\n",
    "    \\odot\n",
    "    \\begin{bmatrix}\n",
    "    b_{11} & b_{12} & b_{13} \\\\\n",
    "    b_{21} & b_{22} & b_{23} \\\\\n",
    "    b_{31} & b_{32} & b_{33}\n",
    "    \\end{bmatrix}\n",
    "    =\n",
    "    \\begin{bmatrix}\n",
    "    a_{11} b_{11} & a_{12} b_{12} & a_{13} b_{13} \\\\\n",
    "    a_{21} b_{21} & a_{22} b_{22} & a_{23} b_{23} \\\\\n",
    "    a_{31} b_{31} & a_{32} b_{32} & a_{33} b_{33}\n",
    "    \\end{bmatrix}\n",
    "\"\"\"\n",
    "\n",
    "display(Math(element_wise_product))"
   ]
  },
  {
   "cell_type": "code",
   "execution_count": 9,
   "metadata": {},
   "outputs": [
    {
     "name": "stdout",
     "output_type": "stream",
     "text": [
      "Element-Wise Product:\n",
      " [ 4 10 18]\n"
     ]
    }
   ],
   "source": [
    "a = np.array([1, 2, 3])\n",
    "b = np.array([4, 5, 6])\n",
    "\n",
    "element_wise_product = a * b\n",
    "print(\"Element-Wise Product:\\n\", element_wise_product)"
   ]
  }
 ],
 "metadata": {
  "kernelspec": {
   "display_name": "algebra",
   "language": "python",
   "name": "python3"
  },
  "language_info": {
   "codemirror_mode": {
    "name": "ipython",
    "version": 3
   },
   "file_extension": ".py",
   "mimetype": "text/x-python",
   "name": "python",
   "nbconvert_exporter": "python",
   "pygments_lexer": "ipython3",
   "version": "3.9.21"
  }
 },
 "nbformat": 4,
 "nbformat_minor": 2
}
