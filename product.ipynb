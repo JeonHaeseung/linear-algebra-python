{
 "cells": [
  {
   "cell_type": "code",
   "execution_count": 44,
   "metadata": {},
   "outputs": [],
   "source": [
    "from IPython.display import display, Math"
   ]
  },
  {
   "cell_type": "markdown",
   "metadata": {},
   "source": [
    "# Inner Product"
   ]
  },
  {
   "cell_type": "markdown",
   "metadata": {},
   "source": [
    "> 두 벡터 간 유사성을 구합니다."
   ]
  },
  {
   "cell_type": "code",
   "execution_count": 45,
   "metadata": {},
   "outputs": [
    {
     "data": {
      "text/latex": [
       "$\\displaystyle \n",
       "   \\mathbf{a} \\cdot \\mathbf{b}\n",
       "   = a_1 b_1 + a_2 b_2 + a_3 b_3\n",
       "   = \\sum_{i=1}^{n} a_i b_i\n",
       "$"
      ],
      "text/plain": [
       "<IPython.core.display.Math object>"
      ]
     },
     "metadata": {},
     "output_type": "display_data"
    }
   ],
   "source": [
    "inner_product = r\"\"\"\n",
    "   \\mathbf{a} \\cdot \\mathbf{b}\n",
    "   = a_1 b_1 + a_2 b_2 + a_3 b_3\n",
    "   = \\sum_{i=1}^{n} a_i b_i\n",
    "\"\"\"\n",
    "\n",
    "display(Math(inner_product))"
   ]
  },
  {
   "cell_type": "code",
   "execution_count": 46,
   "metadata": {},
   "outputs": [
    {
     "name": "stdout",
     "output_type": "stream",
     "text": [
      "Inner Product:\n",
      " 32\n"
     ]
    }
   ],
   "source": [
    "a = np.array([1, 2, 3])\n",
    "b = np.array([4, 5, 6])\n",
    "\n",
    "inner_product = np.dot(a, b)\n",
    "\n",
    "print(\"Inner Product:\\n\", inner_product)"
   ]
  },
  {
   "cell_type": "markdown",
   "metadata": {},
   "source": [
    "# Outer Product"
   ]
  },
  {
   "cell_type": "markdown",
   "metadata": {},
   "source": [
    "> 행 벡터와 열 벡터의 곱으로 외적곱 행렬을 만듭니다."
   ]
  },
  {
   "cell_type": "code",
   "execution_count": 47,
   "metadata": {},
   "outputs": [
    {
     "data": {
      "text/latex": [
       "$\\displaystyle \n",
       "    \\mathbf{a} \\otimes \\mathbf{b} =\n",
       "    \\begin{bmatrix}\n",
       "    a_1 b_1 & a_1 b_2 & a_1 b_3 \\\\\n",
       "    a_2 b_1 & a_2 b_2 & a_2 b_3 \\\\\n",
       "    a_3 b_1 & a_3 b_2 & a_3 b_3\n",
       "    \\end{bmatrix}\n",
       "$"
      ],
      "text/plain": [
       "<IPython.core.display.Math object>"
      ]
     },
     "metadata": {},
     "output_type": "display_data"
    }
   ],
   "source": [
    "outer_product = r\"\"\"\n",
    "    \\mathbf{a} \\otimes \\mathbf{b} =\n",
    "    \\begin{bmatrix}\n",
    "    a_1 b_1 & a_1 b_2 & a_1 b_3 \\\\\n",
    "    a_2 b_1 & a_2 b_2 & a_2 b_3 \\\\\n",
    "    a_3 b_1 & a_3 b_2 & a_3 b_3\n",
    "    \\end{bmatrix}\n",
    "\"\"\"\n",
    "\n",
    "display(Math(outer_product))"
   ]
  },
  {
   "cell_type": "code",
   "execution_count": 48,
   "metadata": {},
   "outputs": [
    {
     "name": "stdout",
     "output_type": "stream",
     "text": [
      "Outer Product:\n",
      " [[ 4  5  6]\n",
      " [ 8 10 12]\n",
      " [12 15 18]]\n"
     ]
    }
   ],
   "source": [
    "a = np.array([1, 2, 3])\n",
    "b = np.array([[4], [5], [6]])\n",
    "\n",
    "outer_product = np.outer(a, b)\n",
    "\n",
    "print(\"Outer Product:\\n\", outer_product)"
   ]
  },
  {
   "cell_type": "markdown",
   "metadata": {},
   "source": [
    "# Cross Product"
   ]
  },
  {
   "cell_type": "markdown",
   "metadata": {},
   "source": [
    "> 두 벡터에 수직(orthogonal)한 벡터를 생성합니다."
   ]
  },
  {
   "cell_type": "code",
   "execution_count": 49,
   "metadata": {},
   "outputs": [
    {
     "data": {
      "text/latex": [
       "$\\displaystyle \n",
       "    \\mathbf{a} \\times \\mathbf{b} =\n",
       "    \\begin{bmatrix}\n",
       "    a_2 b_3 - a_3 b_2 \\\\\n",
       "    a_3 b_1 - a_1 b_3 \\\\\n",
       "    a_1 b_2 - a_2 b_1\n",
       "    \\end{bmatrix}\n",
       "$"
      ],
      "text/plain": [
       "<IPython.core.display.Math object>"
      ]
     },
     "metadata": {},
     "output_type": "display_data"
    }
   ],
   "source": [
    "cross_product = r\"\"\"\n",
    "    \\mathbf{a} \\times \\mathbf{b} =\n",
    "    \\begin{bmatrix}\n",
    "    a_2 b_3 - a_3 b_2 \\\\\n",
    "    a_3 b_1 - a_1 b_3 \\\\\n",
    "    a_1 b_2 - a_2 b_1\n",
    "    \\end{bmatrix}\n",
    "\"\"\"\n",
    "\n",
    "display(Math(cross_product))"
   ]
  },
  {
   "cell_type": "code",
   "execution_count": 50,
   "metadata": {},
   "outputs": [
    {
     "name": "stdout",
     "output_type": "stream",
     "text": [
      "Cross Product:\n",
      " [-3  6 -3]\n"
     ]
    }
   ],
   "source": [
    "import numpy as np\n",
    "\n",
    "a = np.array([1, 2, 3])\n",
    "b = np.array([4, 5, 6])\n",
    "\n",
    "cross_product = np.cross(a, b)\n",
    "print(\"Cross Product:\\n\", cross_product)\n"
   ]
  }
 ],
 "metadata": {
  "kernelspec": {
   "display_name": "algebra",
   "language": "python",
   "name": "python3"
  },
  "language_info": {
   "codemirror_mode": {
    "name": "ipython",
    "version": 3
   },
   "file_extension": ".py",
   "mimetype": "text/x-python",
   "name": "python",
   "nbconvert_exporter": "python",
   "pygments_lexer": "ipython3",
   "version": "3.9.21"
  }
 },
 "nbformat": 4,
 "nbformat_minor": 2
}
